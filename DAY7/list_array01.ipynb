{
 "cells": [
  {
   "cell_type": "markdown",
   "metadata": {},
   "source": [
    "### list와 행렬의 차이점\n",
    "- 행렬구조에 특화된 numpy 모듈에 대해서 먼저 학습\n",
    "- 행렬은 반드시 행과 열의 갯수가 인덱싱마다 같아야하고, 연산이 가능함.. 자료의 성격이 같아야함\n",
    "- 행렬에 특화된 모듈이 numpy\n",
    "\n",
    "- list(리스트): 사용자가 막 사용할 수 있도록 만든 구조\n",
    "- array(배열): 계산에 최적화된 행과 열 처리 기법(속도가 빠름, GPU등, 게임 필수)"
   ]
  },
  {
   "cell_type": "code",
   "execution_count": 4,
   "metadata": {},
   "outputs": [
    {
     "data": {
      "text/plain": [
       "array([[ 4,  6,  8],\n",
       "       [44, 66, 88]])"
      ]
     },
     "execution_count": 4,
     "metadata": {},
     "output_type": "execute_result"
    }
   ],
   "source": [
    "import numpy as np\n",
    "x =[[2,3,4],[22,33,44]]\n",
    "x2=np.array(x)\n",
    "# np.shape(x) # x가 2행이고 각 list가 3개의 데이터로 구성되어 있다.\n",
    "# np.shape(x2) #x2는 배열로 변환되었기 때문에 x2.shape\n",
    "# x2.shape \n",
    "np.array(x)*2"
   ]
  },
  {
   "cell_type": "markdown",
   "metadata": {},
   "source": [
    "- 모듈과 numpy의 차이\n",
    "- 브로드캐스트 의미"
   ]
  },
  {
   "cell_type": "code",
   "execution_count": 5,
   "metadata": {},
   "outputs": [
    {
     "name": "stdout",
     "output_type": "stream",
     "text": [
      "6\n",
      "3\n"
     ]
    }
   ],
   "source": [
    "a = [[255,0,0],[0,0,255],[0,0,0],\n",
    "[0,255,0],[255,255,255],[2,3,4]]\n",
    "\n",
    "print(len(a)) # a의 수\n",
    "print(len(a[0])) # a에서 인덱스0에 있는 데이터의 수"
   ]
  },
  {
   "cell_type": "code",
   "execution_count": 7,
   "metadata": {},
   "outputs": [
    {
     "data": {
      "text/plain": [
       "array([[102, 103, 104],\n",
       "       [103, 103, 104]])"
      ]
     },
     "execution_count": 7,
     "metadata": {},
     "output_type": "execute_result"
    }
   ],
   "source": [
    "x = [[2,3,4],[3,3,4]]\n",
    "val = 100\n",
    "x2 = np.array(x)\n",
    "x2 + 100 #x2+[[100,100,100],[100,100,100]]"
   ]
  },
  {
   "cell_type": "code",
   "execution_count": 8,
   "metadata": {},
   "outputs": [
    {
     "name": "stdout",
     "output_type": "stream",
     "text": [
      "[[-100  155    0]\n",
      " [ 155 -100  100]]\n"
     ]
    },
    {
     "data": {
      "text/plain": [
       "<matplotlib.image.AxesImage at 0x1bee75b7070>"
      ]
     },
     "execution_count": 8,
     "metadata": {},
     "output_type": "execute_result"
    },
    {
     "data": {
      "image/png": "[encoded data removed]",
      "text/plain": [
       "<Figure size 432x288 with 1 Axes>"
      ]
     },
     "metadata": {
      "needs_background": "light"
     },
     "output_type": "display_data"
    }
   ],
   "source": [
    "# 1개의 픽셀에 0~255값이 들어가면 그레스케일(0은 검정, 255는 흰색)\n",
    "import numpy as np\n",
    "import matplotlib.pyplot as plt\n",
    "x = [[0,255,100],[255,0,200]]\n",
    "plt.imshow(x,cmap= 'gray')\n",
    "\n",
    "x2 = np.array(x)\n",
    "x3 =x2-100\n",
    "print(x3)\n",
    "plt.imshow(x3,cmap='gray')"
   ]
  },
  {
   "cell_type": "code",
   "execution_count": null,
   "metadata": {},
   "outputs": [],
   "source": []
  }
 ],
 "metadata": {
  "interpreter": {
   "hash": "e5bc2cf9d9a3d85fb4b9cf5c2acdd222f933ac2e5b2df75a3f82eb3e684a5541"
  },
  "kernelspec": {
   "display_name": "Python 3.10.1 64-bit",
   "language": "python",
   "name": "python3"
  },
  "language_info": {
   "codemirror_mode": {
    "name": "ipython",
    "version": 3
   },
   "file_extension": ".py",
   "mimetype": "text/x-python",
   "name": "python",
   "nbconvert_exporter": "python",
   "pygments_lexer": "ipython3",
   "version": "3.10.1"
  },
  "orig_nbformat": 4
 },
 "nbformat": 4,
 "nbformat_minor": 2
}
