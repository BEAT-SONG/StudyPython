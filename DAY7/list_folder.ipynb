{
 "cells": [
  {
   "cell_type": "markdown",
   "metadata": {},
   "source": [
    "### 폴더 찾기\n",
    "\n",
    "- 파일명 / 파일명.확장자\n",
    "- 확장자명에 따라 파일명이 다르게 나온다.\n",
    "- 좋은 프로그램이란 메모리를 적게 차지하면서 속도도 빠르면서 결과가 좋게 나오는 것이다.\n",
    "- 객체 할당이 훨씬 빠르다. 객체할당은 파이썬에서만 사용이 가능한 함수이다.\n",
    "- 어떤게 속도가 빠른가를 고민하는 것이 필요하다. "
   ]
  },
  {
   "cell_type": "code",
   "execution_count": 48,
   "metadata": {},
   "outputs": [
    {
     "name": "stdout",
     "output_type": "stream",
     "text": [
      ".\\exam\n",
      ".\\list_array.ipynb\n",
      ".\\list_array.py\n",
      ".\\list_folder.ipynb\n",
      ".\\pic\n"
     ]
    }
   ],
   "source": [
    "import os, glob\n",
    "filter(os.path.isdir, glob.glob('./*'))\n",
    "dataList = glob.glob('./*') # 카멜표기법(변수를 지정할 때 중간에 대문자로 표시.)\n",
    "for x in dataList: # 객체 할당\n",
    "    print(x)"
   ]
  },
  {
   "cell_type": "code",
   "execution_count": 53,
   "metadata": {},
   "outputs": [
    {
     "name": "stdout",
     "output_type": "stream",
     "text": [
      ".\\pic\n",
      ".\\pic\n",
      ".\\pic\n",
      ".\\pic\n",
      ".\\pic\n"
     ]
    }
   ],
   "source": [
    "import os, glob\n",
    "filter(os.path.isdir, glob.glob('./*'))\n",
    "dataList = glob.glob('./*') # 카멜표기법(변수를 지정할 때 중간에 대문자로 표시.)\n",
    "for x in range(len(dataList)): # 인덱스 할당\n",
    "    print(dataList[4])"
   ]
  },
  {
   "cell_type": "code",
   "execution_count": 76,
   "metadata": {},
   "outputs": [
    {
     "data": {
      "text/plain": [
       "('exam', 'list_folder.ipynb')"
      ]
     },
     "execution_count": 76,
     "metadata": {},
     "output_type": "execute_result"
    }
   ],
   "source": [
    "import os, glob\n",
    "filter(os.path.isdir, glob.glob('./*'))\n",
    "dataList = glob.glob('./*') # 카멜표기법(변수를 지정할 때 중간에 대문자로 표시.)\n",
    "x0 = dataList[0][2:]\n",
    "x3 = dataList[3][2:]\n",
    "x0, x3"
   ]
  },
  {
   "cell_type": "code",
   "execution_count": 70,
   "metadata": {},
   "outputs": [
    {
     "data": {
      "text/plain": [
       "17"
      ]
     },
     "execution_count": 70,
     "metadata": {},
     "output_type": "execute_result"
    }
   ],
   "source": [
    "len(x3)"
   ]
  },
  {
   "cell_type": "markdown",
   "metadata": {},
   "source": [
    "- 파일명이 어떻게 구성되어 있는지 확인하는 것을 아는게 중요."
   ]
  },
  {
   "cell_type": "code",
   "execution_count": 73,
   "metadata": {},
   "outputs": [
    {
     "name": "stdout",
     "output_type": "stream",
     "text": [
      ".\n",
      "\\\n",
      "l\n",
      "i\n",
      "s\n",
      "t\n",
      "_\n",
      "f\n",
      "o\n",
      "l\n",
      "d\n",
      "e\n",
      "r\n",
      ".\n",
      "i\n",
      "p\n",
      "y\n",
      "n\n",
      "b\n"
     ]
    }
   ],
   "source": [
    "for i in x3:\n",
    "    print(i)"
   ]
  },
  {
   "cell_type": "markdown",
   "metadata": {},
   "source": [
    "- 원하는 부분부터 나오게 하기 위한 쿼리."
   ]
  },
  {
   "cell_type": "code",
   "execution_count": 74,
   "metadata": {},
   "outputs": [
    {
     "name": "stdout",
     "output_type": "stream",
     "text": [
      "l\n",
      "i\n",
      "s\n",
      "t\n",
      "_\n",
      "f\n",
      "o\n",
      "l\n",
      "d\n",
      "e\n",
      "r\n",
      ".\n",
      "i\n",
      "p\n",
      "y\n",
      "n\n",
      "b\n"
     ]
    }
   ],
   "source": [
    "for i in x3[2:]:\n",
    "    print(i)"
   ]
  },
  {
   "cell_type": "code",
   "execution_count": 87,
   "metadata": {},
   "outputs": [
    {
     "data": {
      "text/plain": [
       "[]"
      ]
     },
     "execution_count": 87,
     "metadata": {},
     "output_type": "execute_result"
    }
   ],
   "source": [
    "import os, glob\n",
    "filter(os.path.isdir, glob.glob('./*'))\n",
    "dataList = glob.glob('./*') # 카멜표기법(변수를 지정할 때 중간에 대문자로 표시.)\n",
    "\n",
    "folderList =[]\n",
    "for x in dataList:\n",
    "    if '.' not in x: # 확장자를 의미하는 .이 아니라 모든것에 앞에 .이 있어서 list에 아무것도 추가되지 않음.\n",
    "        folderList.append(x)\n",
    "folderList\n"
   ]
  },
  {
   "cell_type": "markdown",
   "metadata": {},
   "source": [
    "- 폴더와 파일 구별하기"
   ]
  },
  {
   "cell_type": "code",
   "execution_count": 83,
   "metadata": {},
   "outputs": [
    {
     "data": {
      "text/plain": [
       "['.\\\\exam', '.\\\\pic']"
      ]
     },
     "execution_count": 83,
     "metadata": {},
     "output_type": "execute_result"
    }
   ],
   "source": [
    "import os, glob\n",
    "filter(os.path.isdir, glob.glob('./*'))\n",
    "dataList = glob.glob('./*')\n",
    "\n",
    "folderList =[] # for문을 실행하기 전까지 비어있는 list. \n",
    "for x in dataList:\n",
    "    if '.' not in x[2:]:\n",
    "        folderList.append(x) # folderList에 추가함\n",
    "folderList"
   ]
  },
  {
   "cell_type": "markdown",
   "metadata": {},
   "source": [
    "- '.'을 기준으로 나누기 \n",
    "- 문자열 나누기\n",
    "- list 안에 들어간거([' , '])는 문자열이 아니다.\n",
    "- type() 이 다르게 나온다.\n",
    "- 인덱싱이 중요하다."
   ]
  },
  {
   "cell_type": "markdown",
   "metadata": {},
   "source": [
    "- len과 split()을 사용해서 파일을 찾아내기\n",
    "- 내용을 어디서부터 읽을 것인지에 따라 포함되어 있는 내용이 다르므로 그것에 값이 다르게 나온다."
   ]
  },
  {
   "cell_type": "code",
   "execution_count": 115,
   "metadata": {},
   "outputs": [
    {
     "data": {
      "text/plain": [
       "['.\\\\exam', '.\\\\pic']"
      ]
     },
     "execution_count": 115,
     "metadata": {},
     "output_type": "execute_result"
    }
   ],
   "source": [
    "import os, glob\n",
    "filter(os.path.isdir, glob.glob('./*'))\n",
    "dataList = glob.glob('./*')\n",
    "\n",
    "folderList = []\n",
    "for x in dataList:\n",
    "    # print(x), print(x[2:])\n",
    "    # print('-'*20)\n",
    "    # print(x[2:])\n",
    "    if len(x[2:].split('.')) == 1:\n",
    "    # print(x[2:].split('.'))\n",
    "        folderList.append(x)\n",
    "folderList"
   ]
  },
  {
   "cell_type": "markdown",
   "metadata": {},
   "source": [
    "- 하고자하는 작업을 나열"
   ]
  },
  {
   "cell_type": "code",
   "execution_count": 91,
   "metadata": {},
   "outputs": [
    {
     "name": "stdout",
     "output_type": "stream",
     "text": [
      "./pic복사본\n",
      "./exam복사본\n"
     ]
    }
   ],
   "source": [
    "import shutil\n",
    "\n",
    "print(shutil.copytree('./pic', './pic복사본'))\n",
    "print(shutil.copytree('./exam', './exam복사본'))"
   ]
  },
  {
   "cell_type": "markdown",
   "metadata": {},
   "source": [
    "- 변수로 치환"
   ]
  },
  {
   "cell_type": "code",
   "execution_count": 92,
   "metadata": {},
   "outputs": [
    {
     "name": "stdout",
     "output_type": "stream",
     "text": [
      "./pic복사본\n",
      "./exam복사본\n"
     ]
    }
   ],
   "source": [
    "import shutil\n",
    "\n",
    "folderName = './pic'\n",
    "newName = folderName + '복사본'\n",
    "print(shutil.copytree(folderName, newName)) # shutil.copytree(원본, 복사되는 이름(새로 생김))\n",
    "\n",
    "folderName = './exam'\n",
    "newName = folderName + '복사본'\n",
    "print(shutil.copytree(folderName, newName))"
   ]
  },
  {
   "cell_type": "markdown",
   "metadata": {},
   "source": [
    "- 변수명을 리스트로 치환"
   ]
  },
  {
   "cell_type": "code",
   "execution_count": 97,
   "metadata": {},
   "outputs": [
    {
     "name": "stdout",
     "output_type": "stream",
     "text": [
      "./pic복사본\n",
      "./exam복사본\n"
     ]
    }
   ],
   "source": [
    "import shutil\n",
    "\n",
    "folderList = ['./pic', './exam']\n",
    "\n",
    "folderName = folderList[0]\n",
    "newName = folderList[0] + '복사본'\n",
    "\n",
    "print(shutil.copytree(folderName, newName)) # shutil.copytree(원본, 복사되는 이름(새로 생김))\n",
    "\n",
    "folderList = ['./pic', './exam']\n",
    "folderName = folderList[1]\n",
    "newName = folderList[1] + '복사본'\n",
    "\n",
    "print(shutil.copytree(folderName, newName))"
   ]
  },
  {
   "cell_type": "markdown",
   "metadata": {},
   "source": [
    "- for문으로 변환"
   ]
  },
  {
   "cell_type": "code",
   "execution_count": 98,
   "metadata": {},
   "outputs": [],
   "source": [
    "import shutil\n",
    "\n",
    "folderList = ['./pic', './exam']\n",
    "\n",
    "for folderName in folderList:\n",
    "    newName = folderName + '복사본'\n",
    "    shutil.copytree(folderName, newName) # shutil.copytree(원본, 복사되는 이름(새로 생김))"
   ]
  }
 ],
 "metadata": {
  "interpreter": {
   "hash": "e5bc2cf9d9a3d85fb4b9cf5c2acdd222f933ac2e5b2df75a3f82eb3e684a5541"
  },
  "kernelspec": {
   "display_name": "Python 3.10.1 64-bit",
   "language": "python",
   "name": "python3"
  },
  "language_info": {
   "codemirror_mode": {
    "name": "ipython",
    "version": 3
   },
   "file_extension": ".py",
   "mimetype": "text/x-python",
   "name": "python",
   "nbconvert_exporter": "python",
   "pygments_lexer": "ipython3",
   "version": "3.10.1"
  },
  "orig_nbformat": 4
 },
 "nbformat": 4,
 "nbformat_minor": 2
}
