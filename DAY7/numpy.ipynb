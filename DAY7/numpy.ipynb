{
 "cells": [
  {
   "cell_type": "markdown",
   "metadata": {},
   "source": [
    "- 행렬에 특화되어 있는 numpy가 없는 경우에는?!\n",
    "- 다 만들어서 써야함"
   ]
  },
  {
   "cell_type": "code",
   "execution_count": null,
   "metadata": {},
   "outputs": [],
   "source": [
    "import numpy as np\n",
    "x=np.zeros((3,4))\n",
    "#----------------------------------------------------\n",
    "x[0][0] = 0; x[0][1] = 0; x[0][2] = 0; x[0][3] = 0\n",
    "x[1][0] = 0; x[1][1] = 0; x[1][2] = 0; x[1][3] = 0\n",
    "x[2][0] = 0; x[2][1] = 0; x[2][2] = 0; x[2][3] = 0\n",
    "#----------------------------------------------------\n",
    "for i in range(2):\n",
    "    x[i][0]=0\n",
    "    x[i][1]=0\n",
    "    x[i][2]=0\n",
    "\n",
    "for j in range(4):\n",
    "    x[0][j]=0\n",
    "    x[1][j]=0    \n",
    "    x[2][j]=0\n",
    "    x[3][j]=0\n",
    "#----------------------------------------------------    \n",
    "for i in range(3):\n",
    "    for j in range(4):\n",
    "    x[i][j]=0"
   ]
  },
  {
   "cell_type": "markdown",
   "metadata": {},
   "source": [
    "### numpy 사용해보기\n",
    "- list를 사용하기 위해서 list를 꼭 만들어져야한다. "
   ]
  },
  {
   "cell_type": "code",
   "execution_count": 6,
   "metadata": {},
   "outputs": [
    {
     "data": {
      "text/plain": [
       "36"
      ]
     },
     "execution_count": 6,
     "metadata": {},
     "output_type": "execute_result"
    }
   ],
   "source": [
    "import numpy as np\n",
    "x= [[22,3,4], [2,2,3]]\n",
    "np.sum(x)\n",
    "np.array(x[1]).sum() # array()는 list를 배열로 만들어서 사칙연산이 가능하게 해주는 함수이다.\n",
    "# x.sum() # 지원할 수 없다."
   ]
  },
  {
   "cell_type": "markdown",
   "metadata": {},
   "source": [
    "- 하나의 데이터의 형태가 array인 경우에는 사칙연산이 가능하다.\n",
    "- 아래의 쿼리로 확인할 수 있다.\n",
    "- 고로 불필요한 명령어(array)를 줄일 수 있어 속도적으로 이점을 가질 수 있다. "
   ]
  },
  {
   "cell_type": "code",
   "execution_count": 2,
   "metadata": {},
   "outputs": [
    {
     "name": "stdout",
     "output_type": "stream",
     "text": [
      "[113, 40]\n",
      "[  13 -110]\n",
      "<class 'list'>\n",
      "<class 'numpy.ndarray'>\n"
     ]
    }
   ],
   "source": [
    "import numpy as np\n",
    "# [1번 사람 [x1,x2,x3]\n",
    "#  2번 사람 [x1,x2,x3]] x1을 몸무게, x2는 나이, x3는 수면시간이라고 가정\n",
    "x= np.array([[22,3,4], [2,2,3]])\n",
    "y= np.array([100,150]) # 1번 사람의 혈압이 100, 2번 사람의 혈압이 150일 때 \n",
    "w= ([3,5,8]) # x1의 w값 3/ x2의 w값 5 / x3의 w값 8\n",
    "\n",
    "y1=x*w\n",
    "y_hat=[]\n",
    "for i in y1:\n",
    "    # print(i)\n",
    "    # print('----------------')\n",
    "    y_hat.append(i.sum())\n",
    "print(y_hat) # 예측값\n",
    "print(y_hat - y)\n",
    "print(type(y_hat))\n",
    "print(type(y))"
   ]
  },
  {
   "cell_type": "code",
   "execution_count": 11,
   "metadata": {},
   "outputs": [
    {
     "data": {
      "text/plain": [
       "[113, 40]"
      ]
     },
     "execution_count": 11,
     "metadata": {},
     "output_type": "execute_result"
    }
   ],
   "source": [
    "import numpy as np\n",
    "# [1번 사람 [x1,x2,x3]\n",
    "#  2번 사람 [x1,x2,x3]] x1을 몸무게, x2는 나이, x3는 수면시간이라고 가정\n",
    "x= np.array([[22,3,4], [2,2,3]])\n",
    "y= np.array([100,150]) # 1번 사람의 혈압이 100, 2번 사람의 혈압이 150일 때 \n",
    "w= ([3,5,8]) # x1의 w값 3/ x2의 w값 5 / x3의 w값 8\n",
    "\n",
    "y1=x*w\n",
    "y_hat=[]\n",
    "for i in y1:\n",
    "    # print(i)\n",
    "    # print('----------------')\n",
    "    y_hat.append(i.sum())\n",
    "y_hat # 예측값"
   ]
  },
  {
   "cell_type": "code",
   "execution_count": 14,
   "metadata": {},
   "outputs": [
    {
     "data": {
      "text/plain": [
       "[113, 40]"
      ]
     },
     "execution_count": 14,
     "metadata": {},
     "output_type": "execute_result"
    }
   ],
   "source": [
    "import numpy as np\n",
    "# [1번 사람 [x1,x2,x3]\n",
    "#  2번 사람 [x1,x2,x3]] x1을 몸무게, x2는 나이, x3는 수면시간이라고 가정\n",
    "x= np.array([[22,3,4], [2,2,3]])\n",
    "y= np.array([100,150]) # 1번 사람의 혈압이 100, 2번 사람의 혈압이 150일 때 \n",
    "w= ([3,5,8]) # x1의 w값 3/ x2의 w값 5 / x3의 w값 8\n",
    "\n",
    "y1=x*w\n",
    "y_hat=[i.sum() for i in y1] # 컴프리헨션\n",
    "y_hat"
   ]
  },
  {
   "cell_type": "markdown",
   "metadata": {},
   "source": [
    "### NA\n",
    "- 컴퓨터가 알지 못하는 값.\n",
    "- 아무것도 입력되지 않은 값.\n",
    "- 사칙연산을 할 수 없다.\n",
    "- 하나라도 NA가 있는 경우 모든 사칙연산이 불가능하다.\n",
    "- 전산에서는 비어있지 않는 것이 중요하다.\n",
    "- NA를 어떻게 처리방법이 중요하다.\n",
    "- NA를 처리하는 방법은 5개 정도가 있지만, 고객사에서 나를 신뢰하고 맡겨주는 경우가 거의 없다.\n",
    "- 고로 numpy 데이터에서 NA값은 치명적이다."
   ]
  },
  {
   "cell_type": "markdown",
   "metadata": {},
   "source": [
    "### 이터레이터\n",
    "- itterator\n",
    "- for문을 통해서 순회를 하는 것"
   ]
  },
  {
   "cell_type": "markdown",
   "metadata": {},
   "source": [
    "### 컴프리헨션"
   ]
  },
  {
   "cell_type": "code",
   "execution_count": 6,
   "metadata": {},
   "outputs": [
    {
     "name": "stdout",
     "output_type": "stream",
     "text": [
      "[0, 1, 2, 3, 4, 5, 6, 7, 8, 9]\n"
     ]
    }
   ],
   "source": [
    "number=[]\n",
    "for x in range(10):\n",
    "    number.append(x)\n",
    "print(number)"
   ]
  },
  {
   "cell_type": "code",
   "execution_count": 7,
   "metadata": {},
   "outputs": [
    {
     "name": "stdout",
     "output_type": "stream",
     "text": [
      "[0, 1, 2, 3, 4, 5, 6, 7, 8, 9]\n"
     ]
    }
   ],
   "source": [
    "number=[x for x in range(10)]\n",
    "print(number)"
   ]
  }
 ],
 "metadata": {
  "interpreter": {
   "hash": "e5bc2cf9d9a3d85fb4b9cf5c2acdd222f933ac2e5b2df75a3f82eb3e684a5541"
  },
  "kernelspec": {
   "display_name": "Python 3.10.1 64-bit",
   "language": "python",
   "name": "python3"
  },
  "language_info": {
   "codemirror_mode": {
    "name": "ipython",
    "version": 3
   },
   "file_extension": ".py",
   "mimetype": "text/x-python",
   "name": "python",
   "nbconvert_exporter": "python",
   "pygments_lexer": "ipython3",
   "version": "3.10.1"
  },
  "orig_nbformat": 4
 },
 "nbformat": 4,
 "nbformat_minor": 2
}
